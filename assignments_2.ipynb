{
 "cells": [
  {
   "cell_type": "markdown",
   "metadata": {},
   "source": [
    "# Assignment No 1\n",
    "\n",
    "* Name Asif Imran\n",
    "\n",
    "* Roll No PIAIC223565\n",
    "\n",
    "* QUATER # 4"
   ]
  },
  {
   "cell_type": "code",
   "execution_count": 7,
   "metadata": {},
   "outputs": [
    {
     "name": "stdout",
     "output_type": "stream",
     "text": [
      "9\n"
     ]
    }
   ],
   "source": [
    "#Add two numbers\n",
    "x  = input(\"please enter 1st number\") \n",
    "y = input(\"please enter 2nd number\")\n",
    "# because bydefault input is string value we have to convert it in numbers value\n",
    "x = int (x)\n",
    "y = int (y)\n",
    "z= x+y\n",
    "print (z)"
   ]
  },
  {
   "cell_type": "code",
   "execution_count": 11,
   "metadata": {},
   "outputs": [
    {
     "name": "stdout",
     "output_type": "stream",
     "text": [
      "My Favourit animal is cow\n"
     ]
    }
   ],
   "source": [
    "# Agreement Boot\n",
    "animal_name = input(\"what is your fabourit animal?\")\n",
    "animal_name = str(animal_name) # although bydefault input field is str but we confirm here by giving type\n",
    "Favourit_animal= f\"My Favourit animal is {animal_name}\"\n",
    "print (Favourit_animal)"
   ]
  },
  {
   "cell_type": "code",
   "execution_count": 20,
   "metadata": {},
   "outputs": [
    {
     "name": "stdout",
     "output_type": "stream",
     "text": [
      " Temprature :  76.0F =   24.44C\n"
     ]
    }
   ],
   "source": [
    "# Fahrenheit to Celsius Write a program which prompts the user for a temperature in Fahrenheit (this can be a number with decimal places!) \n",
    "# and outputs the temperature converted to Celsius.\n",
    "\n",
    "tepmrature_fahrenheit = input (\"Give me Temprature in Fahrenheit\")\n",
    "tepmrature_fahrenheit = float (tepmrature_fahrenheit)\n",
    "temprature_celsius =  (tepmrature_fahrenheit - 32) * 5.0/9.0\n",
    "print (f\" Temprature : {tepmrature_fahrenheit: .1f}F =  {temprature_celsius}C\") # fahrenhiet limited to one decimal, however no limit applied on celsius"
   ]
  },
  {
   "cell_type": "code",
   "execution_count": 26,
   "metadata": {},
   "outputs": [
    {
     "name": "stdout",
     "output_type": "stream",
     "text": [
      "The perimeter of the triangle is 11.0\n"
     ]
    }
   ],
   "source": [
    "# Triangle Perimeters Prompt the user to enter the lengths of each side of a triangle and then calculate and print the perimeter of \n",
    "# the triangle (the sum of all of the side lengths).\n",
    "\n",
    "triangle_l1 = float(input (\"What is the length of side 1?\"))\n",
    "triangle_l2 = float(input (\"What is the length of side 1?\"))\n",
    "triangle_l3 = float(input (\"What is the length of side 1?\"))\n",
    "\n",
    "Sum_triangle = triangle_l1 + triangle_l2 + triangle_l3\n",
    "\n",
    "output_trianle = (f\"The perimeter of the triangle is {Sum_triangle}\")\n",
    "\n",
    "print (output_trianle)"
   ]
  },
  {
   "cell_type": "code",
   "execution_count": 30,
   "metadata": {},
   "outputs": [
    {
     "name": "stdout",
     "output_type": "stream",
     "text": [
      " 4.0 squared is  16.0\n"
     ]
    }
   ],
   "source": [
    "# Square Number Ask the user for a number and print its square (the product of the number times itself).\n",
    "no = float(input(\"Type a number to see its square:\"))\n",
    "square_no = no * 4\n",
    "\n",
    "output = f\"{no: .1f} squared is {square_no: .1f}\" \n",
    "\n",
    "print (output)"
   ]
  },
  {
   "cell_type": "code",
   "execution_count": 51,
   "metadata": {},
   "outputs": [
    {
     "name": "stdout",
     "output_type": "stream",
     "text": [
      "[1, 2, 4, 5]\n"
     ]
    }
   ],
   "source": [
    "# Delete a number Consider a list named numbers with the elements [1, 2, 3, 4, 5]. Use list method to delete the number 3?\n",
    "numbers : list = [1, 2, 3, 4, 5]\n",
    "# del numbers[2] # method 1 by using index of value\n",
    "numbers.remove(3) # method 2 by choosing specifice value\n",
    "print(numbers)\n"
   ]
  },
  {
   "cell_type": "code",
   "execution_count": 34,
   "metadata": {},
   "outputs": [
    {
     "name": "stdout",
     "output_type": "stream",
     "text": [
      "[1, 2, 3, 4, 5, 6]\n"
     ]
    }
   ],
   "source": [
    "# Creating a list You have two lists:\n",
    "\n",
    "# list1 with elements [1, 2, 3]\n",
    "# list2 with elements [4, 5, 6].\n",
    "# Create a program using list method to add the elements of list2 to list1.\n",
    "list1 : list = [1,2,3]\n",
    "list2 : list = [4,5,6]\n",
    "list1.extend(list2)\n",
    "print (list1)"
   ]
  },
  {
   "cell_type": "code",
   "execution_count": 39,
   "metadata": {},
   "outputs": [
    {
     "name": "stdout",
     "output_type": "stream",
     "text": [
      "40\n",
      "[10, 20, 30]\n"
     ]
    }
   ],
   "source": [
    "# Pop method You have a list named items with the elements [10, 20, 30, 40]. If you use the pop method without any arguments, \n",
    "# what will the list look like and what value will be removed?\n",
    "\n",
    "list1: list = [10, 20, 30, 40]\n",
    "\n",
    "removed_item = list1.pop()\n",
    "\n",
    "print(removed_item) # it will removed the last item in list\n",
    "\n",
    "print (list1)"
   ]
  },
  {
   "cell_type": "code",
   "execution_count": 46,
   "metadata": {},
   "outputs": [
    {
     "data": {
      "text/plain": [
       "['append',\n",
       " 'clear',\n",
       " 'copy',\n",
       " 'count',\n",
       " 'extend',\n",
       " 'index',\n",
       " 'insert',\n",
       " 'pop',\n",
       " 'remove',\n",
       " 'reverse',\n",
       " 'sort']"
      ]
     },
     "execution_count": 46,
     "metadata": {},
     "output_type": "execute_result"
    }
   ],
   "source": [
    "[i for i in dir(list) if \"__\" not in i]"
   ]
  },
  {
   "cell_type": "code",
   "execution_count": 52,
   "metadata": {},
   "outputs": [
    {
     "name": "stdout",
     "output_type": "stream",
     "text": [
      "green\n"
     ]
    }
   ],
   "source": [
    "# Index Method You have a list called colors with the elements ['red', 'blue', 'green', 'yellow']. \n",
    "# If you use the index method to find the position of 'green', what will the index be?\n",
    "\n",
    "colors : list = ['red', 'blue', 'green', 'yellow']\n",
    "\n",
    "required_color = colors[2] # use index to choose green color\n",
    "\n",
    "print (required_color)"
   ]
  },
  {
   "cell_type": "code",
   "execution_count": 57,
   "metadata": {},
   "outputs": [
    {
     "name": "stdout",
     "output_type": "stream",
     "text": [
      "6\n"
     ]
    }
   ],
   "source": [
    "\n",
    "# Get last element Fill out the function get_last_element(lst) which takes in a list lst as a parameter and prints the last element in the list. \n",
    "# The list is guaranteed to be non-empty, but there are no guarantees on its length.\n",
    "\n",
    "def get_last_elements(lst):\n",
    "    last_element = lst[-1] # get last element of list by reverse index \n",
    "    print (last_element)\n",
    "\n",
    "\n",
    "list0 : list = [1, 2, 4, 5, 6]\n",
    "get_last_elements (list0)"
   ]
  },
  {
   "cell_type": "code",
   "execution_count": 79,
   "metadata": {},
   "outputs": [
    {
     "name": "stdout",
     "output_type": "stream",
     "text": [
      "Here is list : [1, 2, 3]\n"
     ]
    }
   ],
   "source": [
    "# Get a List Write a program which continuously asks the user to enter values which are added one by one into a list.\n",
    "# When the user presses enter without typing anything, print the list.\n",
    "\n",
    "prompt1 = int(input(\"Enter a value1 :\"))\n",
    "prompt2 = int(input(\"Enter a value2 :\"))\n",
    "prompt3 = int(input(\"Enter a value3 :\"))\n",
    "\n",
    "list1 : list = [prompt1, prompt2, prompt3]\n",
    "\n",
    "output : str = f\"Here is list : {list1}\"\n",
    "\n",
    "print (output)\n"
   ]
  },
  {
   "cell_type": "code",
   "execution_count": 92,
   "metadata": {},
   "outputs": [],
   "source": [
    "list1 : list[int] = []\n",
    "i : int = 1\n",
    "while i >= 4:\n",
    "    prompt1 : str = input(f\"Please enter Digit {i}\")\n",
    "    list1.append(prompt1)\n",
    "    output : str = f\"Here is list : {list1}\"\n",
    "    print (output)\n",
    "    i += 1\n"
   ]
  },
  {
   "cell_type": "code",
   "execution_count": 104,
   "metadata": {},
   "outputs": [
    {
     "name": "stdout",
     "output_type": "stream",
     "text": [
      "Here is list : [1, 2, 3, 4]\n"
     ]
    }
   ],
   "source": [
    "list1: list[str] = []\n",
    "i: int = 1\n",
    "while i <= 4:\n",
    "    prompt: str = input(f\"Please enter Digit {i}: \")\n",
    "    list1.append(int(prompt))\n",
    "    output: str = f\"Here is list : {list1}\"\n",
    "    i += 1\n",
    "print(output)\n"
   ]
  },
  {
   "cell_type": "code",
   "execution_count": 67,
   "metadata": {},
   "outputs": [
    {
     "data": {
      "text/plain": [
       "['append',\n",
       " 'clear',\n",
       " 'copy',\n",
       " 'count',\n",
       " 'extend',\n",
       " 'index',\n",
       " 'insert',\n",
       " 'pop',\n",
       " 'remove',\n",
       " 'reverse',\n",
       " 'sort']"
      ]
     },
     "execution_count": 67,
     "metadata": {},
     "output_type": "execute_result"
    }
   ],
   "source": [
    "[i for i in dir(list) if \"__\" not in i]"
   ]
  }
 ],
 "metadata": {
  "kernelspec": {
   "display_name": "base",
   "language": "python",
   "name": "python3"
  },
  "language_info": {
   "codemirror_mode": {
    "name": "ipython",
    "version": 3
   },
   "file_extension": ".py",
   "mimetype": "text/x-python",
   "name": "python",
   "nbconvert_exporter": "python",
   "pygments_lexer": "ipython3",
   "version": "3.11.6"
  }
 },
 "nbformat": 4,
 "nbformat_minor": 2
}
